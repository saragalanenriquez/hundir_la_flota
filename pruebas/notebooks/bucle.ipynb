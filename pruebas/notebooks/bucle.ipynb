{
 "cells": [
  {
   "cell_type": "code",
   "execution_count": 1,
   "metadata": {},
   "outputs": [],
   "source": [
    "import random\n",
    "import numpy as np\n",
    "tablero_jugador_barcos = np.full(fill_value=' ', shape=(10, 10))\n",
    "tablero_jugador_disparos = np.full(fill_value=' ', shape=(10, 10))\n",
    "tablero_maquina_barcos = np.full(fill_value=' ', shape=(10, 10))\n",
    "tablero_maquina_disparos = np.full(fill_value=' ', shape=(10, 10))\n",
    "\n",
    "while 'B' in tablero_jugador_barcos or 'B' in tablero_maquina_barcos:\n",
    "    while True:\n",
    "        disparo_jugador = (int(input('Num fila del 0 al 9:')), int(input('Num columna del 0 al 9:')))\n",
    "        tablero_jugador_disparos\n",
    "        if tablero_maquina_barcos[disparo_jugador]=='B':\n",
    "            tablero_jugador_disparos[disparo_jugador]='X'\n",
    "            print('Tocado')\n",
    "            print(tablero_jugador_barcos)\n",
    "            print(tablero_jugador_disparos)\n",
    "            continue\n",
    "        \n",
    "        elif tablero_maquina_barcos[disparo_jugador]=='~':\n",
    "            tablero_jugador_disparos[disparo_jugador]='A'\n",
    "            print(tablero_jugador_barcos)\n",
    "            print(tablero_jugador_disparos)\n",
    "            break\n",
    "        else:\n",
    "            # Podriamos probar un try except pero uffff\n",
    "            print('mal')\n",
    "            continue\n",
    "    while True:\n",
    "        disparo_maquina = (random.randrange(10), random.randrange(10))\n",
    "        if tablero_jugador_barcos[disparo_maquina]=='B':\n",
    "            tablero_maquina_disparos[disparo_maquina]='X'\n",
    "            print('Tocado')\n",
    "            print(tablero_maquina_disparos)\n",
    "            continue\n",
    "\n",
    "        elif tablero_jugador_barcos[disparo_maquina]=='~':\n",
    "            tablero_maquina_disparos[disparo_maquina]='A'\n",
    "            print(tablero_maquina_disparos)\n",
    "            break"
   ]
  }
 ],
 "metadata": {
  "interpreter": {
   "hash": "ca706a3fec59b69d5f05e107b87430eb3c4104a69157c76304ffce85c26cd350"
  },
  "kernelspec": {
   "display_name": "Python 3.7.4 64-bit",
   "language": "python",
   "name": "python3"
  },
  "language_info": {
   "codemirror_mode": {
    "name": "ipython",
    "version": 3
   },
   "file_extension": ".py",
   "mimetype": "text/x-python",
   "name": "python",
   "nbconvert_exporter": "python",
   "pygments_lexer": "ipython3",
   "version": "3.7.4"
  },
  "orig_nbformat": 4
 },
 "nbformat": 4,
 "nbformat_minor": 2
}
