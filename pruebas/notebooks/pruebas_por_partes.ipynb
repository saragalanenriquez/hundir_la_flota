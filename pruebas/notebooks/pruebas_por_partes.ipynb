{
 "cells": [
  {
   "cell_type": "code",
   "execution_count": 1,
   "metadata": {},
   "outputs": [],
   "source": [
    "import random\n",
    "import numpy as np\n",
    "tablero_jugador_barcos = np.full(fill_value='~', shape=(10, 10))\n",
    "tablero_jugador_disparos = np.full(fill_value='~', shape=(10, 10))\n",
    "tablero_maquina_barcos = np.full(fill_value='~', shape=(10, 10))\n",
    "tablero_maquina_disparos = np.full(fill_value='~', shape=(10, 10))\n",
    "def sub_colocar_barcos(tablero, eslora, stop):\n",
    "    i=0\n",
    "    while i<stop:\n",
    "\n",
    "        orient = random.choice(['N', 'S', 'E', 'O'])   \n",
    "        \n",
    "        # Posicion inicial del barco, np.array con dos valores, te da las primeras coordenadas\n",
    "        current_pos = np.random.randint(10, size = 2)\n",
    "        \n",
    "        fila = current_pos[0]\n",
    "        col = current_pos[1]\n",
    "        \n",
    "        # Recogemos las 4 posiciones colindantes a current_pos\n",
    "        coors_posiN = tablero[fila:fila - eslora:-1, col]\n",
    "        coors_posiE = tablero[fila, col: col + eslora]\n",
    "        coors_posiS = tablero[fila:fila + eslora, col]\n",
    "        coors_posiO = tablero[fila, col: col - eslora:-1]\n",
    "        \n",
    "        # Comprobamos si esas posiciones son validas\n",
    "        # Orientacion Norte\n",
    "        if orient == 'N' and 0 <= fila - eslora < 10 and 'B' not in coors_posiN:\n",
    "            tablero[fila:fila - eslora:-1, col] = 'B'\n",
    "            i+=1\n",
    "\n",
    "        # Orientacion Este\n",
    "        elif orient == 'E' and 0 <= col + eslora < 10 and 'B' not in coors_posiE:\n",
    "            tablero[fila, col: col + eslora] = 'B'\n",
    "            i+=1\n",
    "\n",
    "        # Orientacion Sur\n",
    "        elif orient == 'S' and 0 <= fila + eslora < 10 and 'B' not in coors_posiS:\n",
    "            tablero[fila:fila + eslora, col] = 'B'\n",
    "            i+=1\n",
    "\n",
    "        # Orientacion Oeste\n",
    "        elif orient == 'O' and 0 <= col - eslora < 10 and 'B' not in coors_posiO:\n",
    "            tablero[fila, col: col - eslora:-1] = 'B'\n",
    "            i+=1\n",
    "\n",
    "        # No cumple con las dimensiones del tablero, o hay un barco ahi\n",
    "        # Probamos con otra coordenada\n",
    "        else:\n",
    "            continue\n",
    "    return tablero\n",
    "\n"
   ]
  },
  {
   "cell_type": "code",
   "execution_count": 2,
   "metadata": {},
   "outputs": [],
   "source": [
    "def colocar_barcos(tablero):\n",
    "    sub_colocar_barcos(tablero, 4, 1)\n",
    "    sub_colocar_barcos(tablero, 3, 2)\n",
    "    sub_colocar_barcos(tablero, 2, 3)\n",
    "    sub_colocar_barcos(tablero, 1, 4)\n",
    "    return tablero\n"
   ]
  },
  {
   "cell_type": "code",
   "execution_count": 3,
   "metadata": {},
   "outputs": [
    {
     "name": "stdout",
     "output_type": "stream",
     "text": [
      "[['~' '~' 'B' 'B' 'B' '~' '~' '~' '~' '~']\n",
      " ['B' '~' '~' '~' '~' '~' '~' '~' 'B' '~']\n",
      " ['~' '~' '~' '~' '~' '~' '~' '~' '~' '~']\n",
      " ['~' 'B' 'B' 'B' 'B' '~' '~' '~' '~' 'B']\n",
      " ['~' '~' '~' '~' '~' '~' '~' '~' '~' '~']\n",
      " ['~' '~' '~' '~' '~' '~' '~' '~' '~' '~']\n",
      " ['~' '~' '~' '~' '~' '~' '~' 'B' 'B' 'B']\n",
      " ['~' '~' '~' '~' '~' '~' '~' '~' '~' '~']\n",
      " ['~' '~' '~' '~' '~' 'B' 'B' '~' 'B' '~']\n",
      " ['~' 'B' 'B' 'B' 'B' '~' '~' '~' '~' '~']]\n",
      "[['~' '~' '~' '~' '~' '~' '~' '~' '~' '~']\n",
      " ['~' '~' '~' '~' '~' '~' '~' '~' '~' '~']\n",
      " ['~' '~' '~' '~' '~' '~' '~' '~' '~' '~']\n",
      " ['~' '~' '~' '~' '~' '~' '~' '~' '~' '~']\n",
      " ['~' '~' '~' '~' '~' '~' '~' '~' '~' '~']\n",
      " ['~' '~' '~' '~' '~' '~' '~' '~' '~' '~']\n",
      " ['~' '~' '~' '~' '~' '~' '~' '~' '~' '~']\n",
      " ['~' '~' '~' '~' '~' '~' '~' '~' '~' '~']\n",
      " ['~' '~' '~' '~' '~' '~' '~' '~' '~' '~']\n",
      " ['~' '~' '~' '~' '~' '~' '~' '~' '~' '~']]\n"
     ]
    }
   ],
   "source": [
    "# Tableros jugador\n",
    "print(colocar_barcos(tablero_jugador_barcos))\n",
    "print(tablero_jugador_disparos)"
   ]
  },
  {
   "cell_type": "code",
   "execution_count": 4,
   "metadata": {},
   "outputs": [
    {
     "name": "stdout",
     "output_type": "stream",
     "text": [
      "[['~' '~' '~' '~' '~' '~' '~' '~' '~' '~']\n",
      " ['~' 'B' '~' '~' '~' '~' '~' '~' '~' '~']\n",
      " ['~' 'B' '~' '~' '~' '~' 'B' 'B' 'B' '~']\n",
      " ['~' 'B' '~' '~' 'B' 'B' 'B' 'B' '~' '~']\n",
      " ['~' '~' '~' '~' '~' '~' '~' '~' '~' '~']\n",
      " ['~' '~' 'B' '~' '~' '~' '~' '~' '~' '~']\n",
      " ['~' '~' 'B' 'B' '~' '~' '~' '~' '~' '~']\n",
      " ['B' 'B' '~' '~' '~' '~' '~' '~' '~' 'B']\n",
      " ['~' '~' '~' '~' '~' '~' 'B' '~' '~' '~']\n",
      " ['~' '~' '~' '~' 'B' 'B' '~' '~' '~' 'B']]\n",
      "[['~' '~' '~' '~' '~' '~' '~' '~' '~' '~']\n",
      " ['~' '~' '~' '~' '~' '~' '~' '~' '~' '~']\n",
      " ['~' '~' '~' '~' '~' '~' '~' '~' '~' '~']\n",
      " ['~' '~' '~' '~' '~' '~' '~' '~' '~' '~']\n",
      " ['~' '~' '~' '~' '~' '~' '~' '~' '~' '~']\n",
      " ['~' '~' '~' '~' '~' '~' '~' '~' '~' '~']\n",
      " ['~' '~' '~' '~' '~' '~' '~' '~' '~' '~']\n",
      " ['~' '~' '~' '~' '~' '~' '~' '~' '~' '~']\n",
      " ['~' '~' '~' '~' '~' '~' '~' '~' '~' '~']\n",
      " ['~' '~' '~' '~' '~' '~' '~' '~' '~' '~']]\n"
     ]
    }
   ],
   "source": [
    "# Tableros maquina\n",
    "print(colocar_barcos(tablero_maquina_barcos))\n",
    "print(tablero_maquina_disparos)"
   ]
  },
  {
   "cell_type": "code",
   "execution_count": 13,
   "metadata": {},
   "outputs": [
    {
     "name": "stdout",
     "output_type": "stream",
     "text": [
      "Tocado\n",
      "[['~' '~' 'B' 'B' 'B' '~' '~' '~' '~' '~']\n",
      " ['B' '~' '~' '~' '~' '~' '~' '~' 'B' '~']\n",
      " ['~' '~' '~' '~' '~' '~' '~' '~' '~' '~']\n",
      " ['~' 'B' 'B' 'B' 'B' '~' '~' '~' '~' 'B']\n",
      " ['~' '~' '~' '~' '~' '~' '~' '~' '~' '~']\n",
      " ['~' '~' '~' '~' '~' '~' '~' '~' '~' '~']\n",
      " ['~' '~' '~' '~' '~' '~' '~' 'B' 'B' 'B']\n",
      " ['~' '~' '~' '~' '~' '~' '~' '~' '~' '~']\n",
      " ['~' '~' '~' '~' '~' 'B' 'B' '~' 'B' '~']\n",
      " ['~' 'B' 'B' 'B' 'B' '~' '~' '~' '~' '~']]\n",
      "[['A' '~' '~' '~' '~' '~' '~' '~' '~' '~']\n",
      " ['~' 'X' '~' '~' '~' '~' '~' '~' '~' '~']\n",
      " ['~' '~' '~' '~' '~' '~' '~' '~' '~' '~']\n",
      " ['~' '~' '~' '~' '~' '~' '~' '~' '~' '~']\n",
      " ['~' '~' '~' '~' '~' '~' '~' '~' '~' '~']\n",
      " ['~' '~' '~' '~' '~' '~' '~' '~' '~' '~']\n",
      " ['~' '~' '~' '~' '~' '~' '~' '~' '~' '~']\n",
      " ['~' '~' '~' '~' '~' '~' '~' '~' '~' '~']\n",
      " ['~' '~' '~' '~' '~' '~' '~' '~' '~' '~']\n",
      " ['~' '~' '~' '~' '~' '~' '~' '~' '~' '~']]\n",
      "Tocado\n",
      "[['~' '~' 'B' 'B' 'B' '~' '~' '~' '~' '~']\n",
      " ['B' '~' '~' '~' '~' '~' '~' '~' 'B' '~']\n",
      " ['~' '~' '~' '~' '~' '~' '~' '~' '~' '~']\n",
      " ['~' 'B' 'B' 'B' 'B' '~' '~' '~' '~' 'B']\n",
      " ['~' '~' '~' '~' '~' '~' '~' '~' '~' '~']\n",
      " ['~' '~' '~' '~' '~' '~' '~' '~' '~' '~']\n",
      " ['~' '~' '~' '~' '~' '~' '~' 'B' 'B' 'B']\n",
      " ['~' '~' '~' '~' '~' '~' '~' '~' '~' '~']\n",
      " ['~' '~' '~' '~' '~' 'B' 'B' '~' 'B' '~']\n",
      " ['~' 'B' 'B' 'B' 'B' '~' '~' '~' '~' '~']]\n",
      "[['A' '~' '~' '~' '~' '~' '~' '~' '~' '~']\n",
      " ['~' 'X' '~' '~' '~' '~' '~' '~' '~' '~']\n",
      " ['~' '~' '~' '~' '~' '~' '~' '~' '~' '~']\n",
      " ['~' '~' '~' '~' '~' '~' '~' '~' '~' '~']\n",
      " ['~' '~' '~' '~' '~' '~' '~' '~' '~' '~']\n",
      " ['~' '~' '~' '~' '~' '~' '~' '~' '~' '~']\n",
      " ['~' '~' '~' '~' '~' '~' '~' '~' '~' '~']\n",
      " ['~' '~' '~' '~' '~' '~' '~' '~' '~' '~']\n",
      " ['~' '~' '~' '~' '~' '~' '~' '~' '~' '~']\n",
      " ['~' '~' '~' '~' '~' '~' '~' '~' '~' '~']]\n",
      "[['~' '~' 'B' 'B' 'B' '~' '~' '~' '~' '~']\n",
      " ['B' '~' '~' '~' '~' '~' '~' '~' 'B' '~']\n",
      " ['~' '~' '~' '~' '~' '~' '~' '~' '~' '~']\n",
      " ['~' 'B' 'B' 'B' 'B' '~' '~' '~' '~' 'B']\n",
      " ['~' '~' '~' '~' '~' '~' '~' '~' '~' '~']\n",
      " ['~' '~' '~' '~' '~' '~' '~' '~' '~' '~']\n",
      " ['~' '~' '~' '~' '~' '~' '~' 'B' 'B' 'B']\n",
      " ['~' '~' '~' '~' '~' '~' '~' '~' '~' '~']\n",
      " ['~' '~' '~' '~' '~' 'B' 'B' '~' 'B' '~']\n",
      " ['~' 'B' 'B' 'B' 'B' '~' '~' '~' '~' '~']]\n",
      "[['A' '~' '~' '~' '~' '~' '~' '~' '~' '~']\n",
      " ['~' 'X' '~' '~' '~' '~' '~' '~' '~' '~']\n",
      " ['~' '~' '~' '~' '~' '~' '~' '~' '~' '~']\n",
      " ['~' '~' '~' '~' '~' '~' '~' '~' '~' '~']\n",
      " ['~' '~' '~' '~' '~' '~' '~' '~' '~' '~']\n",
      " ['~' '~' '~' '~' '~' '~' '~' '~' '~' '~']\n",
      " ['~' '~' '~' '~' '~' '~' '~' '~' '~' '~']\n",
      " ['~' '~' '~' '~' '~' '~' '~' '~' '~' '~']\n",
      " ['~' '~' '~' '~' '~' '~' '~' '~' '~' '~']\n",
      " ['~' '~' '~' '~' '~' '~' '~' '~' '~' '~']]\n"
     ]
    }
   ],
   "source": [
    "\n",
    "while True:\n",
    "    disparo_jugador = (int(input('Num fila del 0 al 9:')), int(input('Num columna del 0 al 9:')))\n",
    "    tablero_jugador_disparos\n",
    "    if tablero_maquina_barcos[disparo_jugador]=='B':\n",
    "        tablero_jugador_disparos[disparo_jugador]='X'\n",
    "        print('Tocado')\n",
    "        print(tablero_jugador_barcos)\n",
    "        print(tablero_jugador_disparos)\n",
    "        continue\n",
    "    \n",
    "    elif tablero_maquina_barcos[disparo_jugador]=='~':\n",
    "        tablero_jugador_disparos[disparo_jugador]='A'\n",
    "        print(tablero_jugador_barcos)\n",
    "        print(tablero_jugador_disparos)\n",
    "        break\n",
    "    else:\n",
    "        # Podriamos probar un try except pero uffff\n",
    "        print('mal')\n",
    "        continue\n"
   ]
  },
  {
   "cell_type": "code",
   "execution_count": null,
   "metadata": {},
   "outputs": [],
   "source": [
    "print(tablero_jugador_disparos)"
   ]
  },
  {
   "cell_type": "code",
   "execution_count": 11,
   "metadata": {},
   "outputs": [
    {
     "name": "stdout",
     "output_type": "stream",
     "text": [
      "[['~' '~' '~' 'X' '~' '~' '~' '~' '~' '~']\n",
      " ['~' '~' '~' '~' '~' '~' '~' '~' '~' '~']\n",
      " ['~' '~' '~' 'A' '~' '~' 'A' '~' '~' '~']\n",
      " ['~' 'X' '~' '~' '~' '~' '~' '~' '~' '~']\n",
      " ['~' 'A' '~' '~' '~' '~' '~' '~' '~' '~']\n",
      " ['A' '~' '~' '~' '~' '~' '~' '~' '~' '~']\n",
      " ['~' '~' '~' '~' '~' '~' '~' '~' '~' '~']\n",
      " ['~' '~' '~' '~' 'A' '~' '~' '~' '~' '~']\n",
      " ['~' '~' '~' '~' '~' 'X' '~' '~' '~' '~']\n",
      " ['~' '~' 'X' 'X' '~' 'A' 'A' '~' '~' '~']]\n"
     ]
    }
   ],
   "source": [
    "while True:\n",
    "    disparo_maquina = (random.randrange(10), random.randrange(10))\n",
    "    if tablero_jugador_barcos[disparo_maquina]=='B':\n",
    "        tablero_maquina_disparos[disparo_maquina]='X'\n",
    "        print('Tocado')\n",
    "        print(tablero_maquina_disparos)\n",
    "        continue\n",
    "\n",
    "    elif tablero_jugador_barcos[disparo_maquina]=='X':\n",
    "        print('Posición repetida')\n",
    "        print(tablero_maquina_disparos)\n",
    "        break\n",
    "\n",
    "        \n",
    "    elif tablero_jugador_barcos[disparo_maquina]=='A':\n",
    "        print('Posición repetida')\n",
    "        print(tablero_maquina_disparos)\n",
    "        break\n",
    "\n",
    "    elif tablero_jugador_barcos[disparo_maquina]=='~':\n",
    "        tablero_maquina_disparos[disparo_maquina]='A'\n",
    "        print(tablero_maquina_disparos)\n",
    "        break"
   ]
  },
  {
   "cell_type": "code",
   "execution_count": null,
   "metadata": {},
   "outputs": [],
   "source": [
    "disparo_maquina = (random.randrange(10), random.randrange(10))\n",
    "disparo_maquina"
   ]
  }
 ],
 "metadata": {
  "interpreter": {
   "hash": "ca706a3fec59b69d5f05e107b87430eb3c4104a69157c76304ffce85c26cd350"
  },
  "kernelspec": {
   "display_name": "Python 3.7.4 64-bit",
   "language": "python",
   "name": "python3"
  },
  "language_info": {
   "codemirror_mode": {
    "name": "ipython",
    "version": 3
   },
   "file_extension": ".py",
   "mimetype": "text/x-python",
   "name": "python",
   "nbconvert_exporter": "python",
   "pygments_lexer": "ipython3",
   "version": "3.7.4"
  },
  "orig_nbformat": 4
 },
 "nbformat": 4,
 "nbformat_minor": 2
}
