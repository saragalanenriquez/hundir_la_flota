{
 "cells": [
  {
   "cell_type": "code",
   "execution_count": 1,
   "metadata": {},
   "outputs": [],
   "source": [
    "import numpy as np\n",
    "\n",
    "tablero_jugador_barcos = np.full(fill_value=' ', shape=(10, 10))\n",
    "tablero_jugador_disparos = np.full(fill_value=' ', shape=(10, 10))\n",
    "tablero_maquina_barcos = np.full(fill_value=' ', shape=(10, 10))\n",
    "tablero_maquina_disparos = np.full(fill_value=' ', shape=(10, 10))"
   ]
  }
 ],
 "metadata": {
  "interpreter": {
   "hash": "ca706a3fec59b69d5f05e107b87430eb3c4104a69157c76304ffce85c26cd350"
  },
  "kernelspec": {
   "display_name": "Python 3.7.4 64-bit",
   "language": "python",
   "name": "python3"
  },
  "language_info": {
   "codemirror_mode": {
    "name": "ipython",
    "version": 3
   },
   "file_extension": ".py",
   "mimetype": "text/x-python",
   "name": "python",
   "nbconvert_exporter": "python",
   "pygments_lexer": "ipython3",
   "version": "3.7.4"
  },
  "orig_nbformat": 4
 },
 "nbformat": 4,
 "nbformat_minor": 2
}
