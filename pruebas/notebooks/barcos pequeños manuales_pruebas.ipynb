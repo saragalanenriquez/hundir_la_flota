{
 "cells": [
  {
   "cell_type": "code",
   "execution_count": 12,
   "metadata": {},
   "outputs": [
    {
     "name": "stdout",
     "output_type": "stream",
     "text": [
      "jugador barcos: \n",
      " [['~' '~']\n",
      " ['B' '~']]\n",
      "maquina barcos: \n",
      " [['~' '~']\n",
      " ['~' 'B']]\n"
     ]
    }
   ],
   "source": [
    "import numpy as np\n",
    "import random\n",
    "tablero_jugador_barcos = np.full(fill_value='~', shape=(2, 2))\n",
    "tablero_jugador_disparos = np.full(fill_value='~', shape=(2, 2))\n",
    "tablero_maquina_barcos = np.full(fill_value='~', shape=(2, 2))\n",
    "tablero_maquina_disparos = np.full(fill_value='~', shape=(2, 2))\n",
    "\n",
    "\n",
    "tablero_jugador_barcos[1:2, 0:1]='B'\n",
    "print('jugador barcos: \\n', tablero_jugador_barcos)\n",
    "tablero_maquina_barcos[1:2, 1:2]='B'\n",
    "print('maquina barcos: \\n', tablero_maquina_barcos)"
   ]
  },
  {
   "cell_type": "code",
   "execution_count": 13,
   "metadata": {},
   "outputs": [
    {
     "name": "stdout",
     "output_type": "stream",
     "text": [
      "Agua\n",
      "jugador barcos:\n",
      " [['~' '~']\n",
      " ['B' '~']]\n",
      "jugador disparos: \n",
      " [['~' 'A']\n",
      " ['~' '~']]\n",
      "Disparo de la maquina al agua\n",
      "jugador barcos:\n",
      " [['~' '~']\n",
      " ['B' 'A']]\n",
      "Ya has probado esas coordenadas, introduce ahora otras diferentes\n",
      "Ya has probado esas coordenadas, introduce ahora otras diferentes\n"
     ]
    },
    {
     "ename": "ValueError",
     "evalue": "invalid literal for int() with base 10: ''",
     "output_type": "error",
     "traceback": [
      "\u001b[1;31m---------------------------------------------------------------------------\u001b[0m",
      "\u001b[1;31mValueError\u001b[0m                                Traceback (most recent call last)",
      "\u001b[1;32m~\\AppData\\Local\\Temp\\ipykernel_1436\\1576165620.py\u001b[0m in \u001b[0;36m<module>\u001b[1;34m\u001b[0m\n\u001b[0;32m      1\u001b[0m \u001b[1;32mwhile\u001b[0m \u001b[0mnp\u001b[0m\u001b[1;33m.\u001b[0m\u001b[0many\u001b[0m\u001b[1;33m(\u001b[0m\u001b[0mtablero_jugador_barcos\u001b[0m\u001b[1;33m==\u001b[0m\u001b[1;34m'B'\u001b[0m\u001b[1;33m,\u001b[0m \u001b[0maxis\u001b[0m\u001b[1;33m=\u001b[0m\u001b[1;33m(\u001b[0m\u001b[1;36m0\u001b[0m\u001b[1;33m,\u001b[0m\u001b[1;36m1\u001b[0m\u001b[1;33m)\u001b[0m\u001b[1;33m)\u001b[0m \u001b[1;32mand\u001b[0m \u001b[0mnp\u001b[0m\u001b[1;33m.\u001b[0m\u001b[0many\u001b[0m\u001b[1;33m(\u001b[0m\u001b[0mtablero_maquina_barcos\u001b[0m\u001b[1;33m==\u001b[0m\u001b[1;34m'B'\u001b[0m\u001b[1;33m,\u001b[0m \u001b[0maxis\u001b[0m\u001b[1;33m=\u001b[0m\u001b[1;33m(\u001b[0m\u001b[1;36m0\u001b[0m\u001b[1;33m,\u001b[0m\u001b[1;36m1\u001b[0m\u001b[1;33m)\u001b[0m\u001b[1;33m)\u001b[0m\u001b[1;33m:\u001b[0m\u001b[1;33m\u001b[0m\u001b[1;33m\u001b[0m\u001b[0m\n\u001b[0;32m      2\u001b[0m     \u001b[1;32mwhile\u001b[0m \u001b[0mnp\u001b[0m\u001b[1;33m.\u001b[0m\u001b[0many\u001b[0m\u001b[1;33m(\u001b[0m\u001b[0mtablero_maquina_barcos\u001b[0m\u001b[1;33m==\u001b[0m\u001b[1;34m'B'\u001b[0m\u001b[1;33m,\u001b[0m \u001b[0maxis\u001b[0m\u001b[1;33m=\u001b[0m\u001b[1;33m(\u001b[0m\u001b[1;36m0\u001b[0m\u001b[1;33m,\u001b[0m\u001b[1;36m1\u001b[0m\u001b[1;33m)\u001b[0m\u001b[1;33m)\u001b[0m\u001b[1;33m:\u001b[0m\u001b[1;33m\u001b[0m\u001b[1;33m\u001b[0m\u001b[0m\n\u001b[1;32m----> 3\u001b[1;33m         \u001b[0mdisparo_jugador\u001b[0m \u001b[1;33m=\u001b[0m \u001b[1;33m(\u001b[0m\u001b[0mint\u001b[0m\u001b[1;33m(\u001b[0m\u001b[0minput\u001b[0m\u001b[1;33m(\u001b[0m\u001b[1;34m'Num fila del 0 al 2:'\u001b[0m\u001b[1;33m)\u001b[0m\u001b[1;33m)\u001b[0m\u001b[1;33m,\u001b[0m \u001b[0mint\u001b[0m\u001b[1;33m(\u001b[0m\u001b[0minput\u001b[0m\u001b[1;33m(\u001b[0m\u001b[1;34m'Num columna del 0 al 2:'\u001b[0m\u001b[1;33m)\u001b[0m\u001b[1;33m)\u001b[0m\u001b[1;33m)\u001b[0m\u001b[1;33m\u001b[0m\u001b[1;33m\u001b[0m\u001b[0m\n\u001b[0m\u001b[0;32m      4\u001b[0m         \u001b[0mtablero_jugador_disparos\u001b[0m\u001b[1;33m\u001b[0m\u001b[1;33m\u001b[0m\u001b[0m\n\u001b[0;32m      5\u001b[0m         \u001b[1;32mtry\u001b[0m\u001b[1;33m:\u001b[0m\u001b[1;33m\u001b[0m\u001b[1;33m\u001b[0m\u001b[0m\n",
      "\u001b[1;31mValueError\u001b[0m: invalid literal for int() with base 10: ''"
     ]
    }
   ],
   "source": [
    "while np.any(tablero_jugador_barcos=='B', axis=(0,1)) and np.any(tablero_maquina_barcos=='B', axis=(0,1)):\n",
    "    while np.any(tablero_maquina_barcos=='B', axis=(0,1)):\n",
    "        disparo_jugador = (int(input('Num fila del 0 al 2:')), int(input('Num columna del 0 al 2:')))\n",
    "        tablero_jugador_disparos\n",
    "        try:\n",
    "            if tablero_maquina_barcos[disparo_jugador]=='B':\n",
    "                tablero_jugador_disparos[disparo_jugador]='X'\n",
    "                tablero_maquina_barcos[disparo_jugador]='X'\n",
    "                print('Has dado al un barco')\n",
    "                print('jugador barcos:\\n', tablero_jugador_barcos)\n",
    "                print('jugador disparos: \\n', tablero_jugador_disparos)\n",
    "                continue\n",
    "            \n",
    "            elif tablero_maquina_barcos[disparo_jugador]=='~':\n",
    "                tablero_jugador_disparos[disparo_jugador]='A'\n",
    "                tablero_maquina_barcos[disparo_jugador]='A'\n",
    "                print('Agua')\n",
    "                print('jugador barcos:\\n', tablero_jugador_barcos)\n",
    "                print('jugador disparos: \\n', tablero_jugador_disparos)\n",
    "\n",
    "            else:\n",
    "                print('Ya has probado esas coordenadas, introduce ahora otras diferentes')\n",
    "                continue\n",
    "            break\n",
    "        except:\n",
    "            print('Las coordenadas introducidas están fura del tablero, intentalo otra vez con unas menores')\n",
    "            continue\n",
    "\n",
    "    while np.any(tablero_jugador_barcos=='B', axis=(0,1)):\n",
    "        disparo_maquina = (random.randrange(2), random.randrange(2))\n",
    "        if tablero_jugador_barcos[disparo_maquina]=='B':\n",
    "            print(disparo_maquina)\n",
    "            tablero_maquina_disparos[disparo_maquina]='X'\n",
    "            tablero_jugador_barcos[disparo_maquina]='X'\n",
    "            print('La maquina te ha dado')\n",
    "            print('jugador barcos:\\n', tablero_jugador_barcos)\n",
    "            continue\n",
    "\n",
    "        elif tablero_jugador_barcos[disparo_maquina]=='~':\n",
    "            tablero_maquina_disparos[disparo_maquina]='A'\n",
    "            tablero_jugador_barcos[disparo_maquina]='A'\n",
    "            print('Disparo de la maquina al agua')\n",
    "            print('jugador barcos:\\n', tablero_jugador_barcos)\n",
    "        else:\n",
    "            continue\n",
    "        break\n",
    "\n",
    "print('fin de la Partida')\n",
    "\n",
    "\n",
    "if np.any(tablero_maquina_barcos=='B', axis=(0,1)):\n",
    "    print('gana la maquina') \n",
    "else:\n",
    "    print('has ganado')"
   ]
  }
 ],
 "metadata": {
  "interpreter": {
   "hash": "ca706a3fec59b69d5f05e107b87430eb3c4104a69157c76304ffce85c26cd350"
  },
  "kernelspec": {
   "display_name": "Python 3.7.4 64-bit",
   "language": "python",
   "name": "python3"
  },
  "language_info": {
   "codemirror_mode": {
    "name": "ipython",
    "version": 3
   },
   "file_extension": ".py",
   "mimetype": "text/x-python",
   "name": "python",
   "nbconvert_exporter": "python",
   "pygments_lexer": "ipython3",
   "version": "3.7.4"
  },
  "orig_nbformat": 4
 },
 "nbformat": 4,
 "nbformat_minor": 2
}
