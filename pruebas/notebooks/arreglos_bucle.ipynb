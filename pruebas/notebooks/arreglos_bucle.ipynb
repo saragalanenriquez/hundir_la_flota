{
 "cells": [
  {
   "cell_type": "code",
   "execution_count": null,
   "metadata": {},
   "outputs": [],
   "source": [
    "import numpy as np\n",
    "import random\n",
    "import variables as v\n",
    "import funciones as f\n",
    "\n",
    "\n",
    "# Tableros jugador\n",
    "print('jugador barcos:\\n', f.colocar_barcos(v.tablero_jugador_barcos))\n",
    "print('jugador disparos:\\n', v.tablero_jugador_disparos)\n",
    "\n",
    "# Tableros maquina\n",
    "print('maquina barcos:\\n', f.colocar_barcos(v.tablero_maquina_barcos))\n",
    "print('maquina disparos:\\n', v.tablero_maquina_disparos)\n",
    "\n",
    "\n",
    "# Bucle disparos\n",
    "while v.tablero_jugador_barcos[:]!='B' or v.tablero_maquina_barcos[:]!='B':\n",
    "    while True:\n",
    "        disparo_jugador = (int(input('Num fila del 0 al 9:')), int(input('4Num columna del 0 al 9:')))\n",
    "        v.tablero_jugador_disparos\n",
    "        if v.tablero_maquina_barcos[disparo_jugador]=='B':\n",
    "            v.tablero_jugador_disparos[disparo_jugador]='X'\n",
    "            print('Tocado')\n",
    "            print('jugador barcos:\\n', v.tablero_jugador_barcos)\n",
    "            print('jugador disparos: \\n', v.tablero_jugador_disparos)\n",
    "            continue\n",
    "        \n",
    "        elif v.tablero_maquina_barcos[disparo_jugador]=='~':\n",
    "            v.tablero_jugador_disparos[disparo_jugador]='A'\n",
    "            print('jugador barcos:\\n')\n",
    "            print(v.tablero_jugador_barcos)\n",
    "            print('jugador disparos: \\n', v.tablero_jugador_disparos)\n",
    "            break\n",
    "        else:\n",
    "            # Podriamos probar un try except pero uffff\n",
    "            print('mal')\n",
    "            continue\n",
    "    while True:\n",
    "        disparo_maquina = (random.randrange(10), random.randrange(10))\n",
    "        if v.tablero_jugador_barcos[disparo_maquina]=='B':\n",
    "            v.tablero_maquina_disparos[disparo_maquina]='X'\n",
    "            print('Tocado')\n",
    "            print('maquina disparos: \\n', v.tablero_maquina_disparos)\n",
    "            continue\n",
    "\n",
    "        elif v.tablero_jugador_barcos[disparo_maquina]=='~':\n",
    "            v.tablero_maquina_disparos[disparo_maquina]='A'\n",
    "            print('maquina disparos: \\n', v.tablero_maquina_disparos)\n",
    "            break"
   ]
  },
  {
   "cell_type": "code",
   "execution_count": null,
   "metadata": {},
   "outputs": [],
   "source": [
    "import numpy as np\n",
    "import random\n",
    "import variables as v\n",
    "import funciones as f\n",
    "\n",
    "\n",
    "# Tableros jugador\n",
    "print('jugador barcos:\\n', f.colocar_barcos(v.tablero_jugador_barcos))\n",
    "print('jugador disparos:\\n', v.tablero_jugador_disparos)\n",
    "\n",
    "# Tableros maquina\n",
    "print('maquina barcos:\\n', f.colocar_barcos(v.tablero_maquina_barcos))\n",
    "print('maquina disparos:\\n', v.tablero_maquina_disparos)\n",
    "\n",
    "while v.tablero_jugador_barcos[:]!='B' or v.tablero_maquina_barcos[:]!='B':\n",
    "    print('funciona')\n",
    "    break "
   ]
  },
  {
   "cell_type": "code",
   "execution_count": null,
   "metadata": {},
   "outputs": [],
   "source": [
    "'''import numpy as np\n",
    "import random\n",
    "import variables as v\n",
    "import funciones as f'''\n"
   ]
  },
  {
   "cell_type": "code",
   "execution_count": null,
   "metadata": {},
   "outputs": [],
   "source": [
    "\n",
    "#v.tablero_jugador_barcos"
   ]
  },
  {
   "cell_type": "code",
   "execution_count": null,
   "metadata": {},
   "outputs": [],
   "source": [
    "#np.all(v.tablero_jugador_barcos!='B', axis=(0, 1))"
   ]
  },
  {
   "cell_type": "code",
   "execution_count": 1,
   "metadata": {},
   "outputs": [
    {
     "data": {
      "text/plain": [
       "array([['~', '~', '~', '~', '~', '~', '~', '~', '~', '~'],\n",
       "       ['~', '~', '~', '~', '~', '~', '~', '~', '~', '~'],\n",
       "       ['~', '~', '~', '~', '~', '~', '~', '~', '~', '~'],\n",
       "       ['~', '~', '~', '~', '~', '~', '~', '~', '~', '~'],\n",
       "       ['~', '~', '~', '~', '~', '~', '~', '~', '~', '~'],\n",
       "       ['~', '~', '~', '~', '~', '~', '~', '~', '~', '~'],\n",
       "       ['~', '~', '~', '~', '~', '~', '~', '~', '~', '~'],\n",
       "       ['~', '~', '~', '~', '~', '~', '~', '~', '~', '~'],\n",
       "       ['~', '~', '~', '~', '~', '~', '~', '~', '~', '~'],\n",
       "       ['~', '~', '~', '~', '~', '~', '~', '~', '~', '~']], dtype='<U1')"
      ]
     },
     "execution_count": 1,
     "metadata": {},
     "output_type": "execute_result"
    }
   ],
   "source": [
    "import numpy as np\n",
    "import random\n",
    "import variables as v\n",
    "import funciones as f\n",
    "#v.tablero_jugador_barcos[0:1, 0:1]='B'\n",
    "v.tablero_jugador_barcos"
   ]
  },
  {
   "cell_type": "code",
   "execution_count": null,
   "metadata": {},
   "outputs": [],
   "source": [
    "np.all(v.tablero_jugador_barcos!='B', axis=(0, 1)) \n"
   ]
  },
  {
   "cell_type": "code",
   "execution_count": null,
   "metadata": {},
   "outputs": [],
   "source": [
    "np.all(v.tablero_jugador_barcos=='B', axis=(0, 1)) \n"
   ]
  },
  {
   "cell_type": "code",
   "execution_count": null,
   "metadata": {},
   "outputs": [],
   "source": [
    "np.any(v.tablero_jugador_barcos!='B', axis=(0, 1)) \n"
   ]
  },
  {
   "cell_type": "code",
   "execution_count": 3,
   "metadata": {},
   "outputs": [
    {
     "name": "stdout",
     "output_type": "stream",
     "text": [
      "Has perdido\n"
     ]
    }
   ],
   "source": [
    "if np.any(v.tablero_maquina_barcos=='B', axis=(0, 1)):\n",
    "    print('Has ganado')\n",
    "else:\n",
    "    print('Has perdido')\n"
   ]
  },
  {
   "cell_type": "code",
   "execution_count": 6,
   "metadata": {},
   "outputs": [
    {
     "data": {
      "text/plain": [
       "array([['B', '~', '~', '~', '~', '~', '~', '~', '~', '~'],\n",
       "       ['~', '~', '~', '~', '~', '~', '~', '~', '~', '~'],\n",
       "       ['~', '~', '~', '~', '~', '~', '~', '~', '~', '~'],\n",
       "       ['~', '~', '~', '~', '~', '~', '~', '~', '~', '~'],\n",
       "       ['~', '~', '~', '~', '~', '~', '~', '~', '~', '~'],\n",
       "       ['~', '~', '~', '~', '~', '~', '~', '~', '~', '~'],\n",
       "       ['~', '~', '~', '~', '~', '~', '~', '~', '~', '~'],\n",
       "       ['~', '~', '~', '~', '~', '~', '~', '~', '~', '~'],\n",
       "       ['~', '~', '~', '~', '~', '~', '~', '~', '~', '~'],\n",
       "       ['~', '~', '~', '~', '~', '~', '~', '~', '~', '~']], dtype='<U1')"
      ]
     },
     "execution_count": 6,
     "metadata": {},
     "output_type": "execute_result"
    }
   ],
   "source": [
    "import numpy as np\n",
    "import random\n",
    "import variables as v\n",
    "import funciones as f\n",
    "v.tablero_jugador_barcos[0:1, 0:1]='B'\n",
    "v.tablero_jugador_barcos"
   ]
  },
  {
   "cell_type": "code",
   "execution_count": 4,
   "metadata": {},
   "outputs": [
    {
     "data": {
      "text/plain": [
       "array([['B', '~', '~', '~', '~', '~', '~', '~', '~', '~'],\n",
       "       ['~', '~', '~', '~', '~', '~', '~', '~', '~', '~'],\n",
       "       ['~', '~', '~', '~', '~', '~', '~', '~', '~', '~'],\n",
       "       ['~', '~', '~', '~', '~', '~', '~', '~', '~', '~'],\n",
       "       ['~', '~', '~', '~', '~', '~', '~', '~', '~', '~'],\n",
       "       ['~', '~', '~', '~', '~', '~', '~', '~', '~', '~'],\n",
       "       ['~', '~', '~', '~', '~', '~', '~', '~', '~', '~'],\n",
       "       ['~', '~', '~', '~', '~', '~', '~', '~', '~', '~'],\n",
       "       ['~', '~', '~', '~', '~', '~', '~', '~', '~', '~'],\n",
       "       ['~', '~', '~', '~', '~', '~', '~', '~', '~', '~']], dtype='<U1')"
      ]
     },
     "execution_count": 4,
     "metadata": {},
     "output_type": "execute_result"
    }
   ],
   "source": [
    "import numpy as np\n",
    "import random\n",
    "import variables as v\n",
    "import funciones as f\n",
    "v.tablero_maquina_barcos[0:1, 0:1]='B'\n",
    "v.tablero_maquina_barcos"
   ]
  },
  {
   "cell_type": "code",
   "execution_count": 5,
   "metadata": {},
   "outputs": [
    {
     "name": "stdout",
     "output_type": "stream",
     "text": [
      "Has perdido\n"
     ]
    }
   ],
   "source": [
    "if np.all(v.tablero_maquina_barcos!='B', axis=(0, 1)):\n",
    "    print('Has ganado')\n",
    "else:\n",
    "    print('Has perdido')\n"
   ]
  },
  {
   "cell_type": "code",
   "execution_count": 9,
   "metadata": {},
   "outputs": [
    {
     "name": "stdout",
     "output_type": "stream",
     "text": [
      "funciona\n"
     ]
    }
   ],
   "source": [
    "while np.any(v.tablero_jugador_barcos=='B', axis=(0,1)) or np.any(v.tablero_maquina_barcos=='B', axis=(0, 1)): # ESTE ES EL BUENO\n",
    "    print('funciona')\n",
    "    break"
   ]
  },
  {
   "cell_type": "code",
   "execution_count": null,
   "metadata": {},
   "outputs": [],
   "source": [
    "'''while np.any(v.tablero_jugador_barcos=='B', axis=(0, 1)):\n",
    "    print('funciona')\n",
    "    break '''"
   ]
  },
  {
   "cell_type": "code",
   "execution_count": null,
   "metadata": {},
   "outputs": [],
   "source": [
    "'''v.tablero_maquina_barcos[0:1, 0:1]='B'\n",
    "v.tablero_maquina_barcos'''"
   ]
  },
  {
   "cell_type": "code",
   "execution_count": null,
   "metadata": {},
   "outputs": [],
   "source": [
    "#or np.all(v.tablero_maquina_barcos!='B', axis=(0, 1)):"
   ]
  },
  {
   "cell_type": "code",
   "execution_count": null,
   "metadata": {},
   "outputs": [],
   "source": [
    "#np.all(v.tablero_maquina_barcos!='B', axis=(0, 1))"
   ]
  },
  {
   "cell_type": "code",
   "execution_count": null,
   "metadata": {},
   "outputs": [],
   "source": [
    "print('tablero barcos enemigo:\\n',"
   ]
  },
  {
   "cell_type": "code",
   "execution_count": null,
   "metadata": {},
   "outputs": [],
   "source": [
    "# CAMBIAR ESTO, ESTO ES SOLO PARA VERLO YO, NO EN EL RESULTADO"
   ]
  }
 ],
 "metadata": {
  "interpreter": {
   "hash": "b7d1d648bc744a4685869e1fdb33ef13f4f0c14400aef2b69bba6937801b961d"
  },
  "kernelspec": {
   "display_name": "Python 3.7.4 64-bit",
   "language": "python",
   "name": "python3"
  },
  "language_info": {
   "codemirror_mode": {
    "name": "ipython",
    "version": 3
   },
   "file_extension": ".py",
   "mimetype": "text/x-python",
   "name": "python",
   "nbconvert_exporter": "python",
   "pygments_lexer": "ipython3",
   "version": "3.7.4"
  },
  "orig_nbformat": 4
 },
 "nbformat": 4,
 "nbformat_minor": 2
}
